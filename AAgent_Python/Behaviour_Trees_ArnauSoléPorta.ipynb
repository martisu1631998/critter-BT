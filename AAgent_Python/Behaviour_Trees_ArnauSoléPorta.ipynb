{
  "nbformat": 4,
  "nbformat_minor": 0,
  "metadata": {
    "colab": {
      "provenance": [],
      "collapsed_sections": [
        "81LiP-v4ViIB",
        "JGOfCC_VaUNV",
        "9av0l2RQe6CZ",
        "gMsWGCQ3fsMZ",
        "JRQaz_cyaMM4",
        "TaKkQBaCU8pq",
        "Vie9fFLkVQxU",
        "vLfLCA2KYXwy",
        "UCpgZaE-dfNy",
        "zT3IikR7hZB9",
        "WkPhYH3Jio_T",
        "qnDNIqv8l80v"
      ]
    },
    "kernelspec": {
      "name": "python3",
      "display_name": "Python 3"
    },
    "language_info": {
      "name": "python"
    }
  },
  "cells": [
    {
      "cell_type": "markdown",
      "source": [
        "Arnau Solé Porta (NIU: 1630311)"
      ],
      "metadata": {
        "id": "5emtv3zfV3Du"
      }
    },
    {
      "cell_type": "markdown",
      "source": [
        "### Introduction"
      ],
      "metadata": {
        "id": "81LiP-v4ViIB"
      }
    },
    {
      "cell_type": "code",
      "execution_count": 1,
      "metadata": {
        "id": "OtARosj0PNz5"
      },
      "outputs": [],
      "source": [
        "# Install packages\n",
        "%%capture\n",
        "!pip install py-trees"
      ]
    },
    {
      "cell_type": "code",
      "source": [
        "# Import packages\n",
        "from time import sleep\n",
        "from py_trees.composites import Selector\n",
        "from py_trees.behaviour import Behaviour\n",
        "from py_trees.composites import Sequence\n",
        "from py_trees import common\n",
        "from py_trees.common import Status\n",
        "from py_trees import logging as log_tree\n",
        "from py_trees.display import render_dot_tree\n",
        "import matplotlib.pyplot as plt\n",
        "import matplotlib.image as img\n",
        "import py_trees as pt\n",
        "import asyncio"
      ],
      "metadata": {
        "id": "vRaK_kvmOZGp"
      },
      "execution_count": 5,
      "outputs": []
    },
    {
      "cell_type": "code",
      "source": [
        "following = False\n",
        "hungry = False"
      ],
      "metadata": {
        "id": "dy57qWDXfNIL"
      },
      "execution_count": null,
      "outputs": []
    },
    {
      "cell_type": "code",
      "source": [
        "class Normal(pt.behaviour.Behaviour):\n",
        "    def __init__(self):\n",
        "        print(\"Initializing Normal\")\n",
        "        super(Normal, self).__init__(\"Normal\")\n",
        "\n",
        "    def initialise(self):\n",
        "        pass\n",
        "\n",
        "    def update(self):\n",
        "        print('Siuu')\n",
        "        return pt.common.Status.SUCCESS\n",
        "\n",
        "    def terminate(self, new_status: common.Status):\n",
        "        pass"
      ],
      "metadata": {
        "id": "ZegO1Mgswltq"
      },
      "execution_count": 11,
      "outputs": []
    },
    {
      "cell_type": "code",
      "source": [
        "async def count_time():\n",
        "    print('Hi')\n",
        "    await asyncio.sleep(3)\n",
        "    print(\"Hungry!\")\n",
        "    return True"
      ],
      "metadata": {
        "id": "Sgh8A2M45PD4"
      },
      "execution_count": 18,
      "outputs": []
    },
    {
      "cell_type": "code",
      "source": [
        "class Count(pt.behaviour.Behaviour):\n",
        "    def __init__(self):\n",
        "        print(\"Initializing Count\")\n",
        "        super(Count, self).__init__(\"Count\")\n",
        "\n",
        "    def initialise(self):\n",
        "        pass\n",
        "\n",
        "    def update(self):\n",
        "          count_time()\n",
        "          return pt.common.Status.SUCCESS\n",
        "\n",
        "    def terminate(self, new_status: common.Status):\n",
        "        pass"
      ],
      "metadata": {
        "id": "pue_qX2K4WO6"
      },
      "execution_count": 34,
      "outputs": []
    },
    {
      "cell_type": "code",
      "source": [
        "log_tree.level = log_tree.Level.DEBUG\n",
        "\n",
        "treeRoot = pt.composites.Parallel(name=\"root\", policy=pt.common.ParallelPolicy.SuccessOnAll())\n",
        "treeRoot.add_children([Normal(), Count()])\n",
        "\n",
        "treeRoot.tick_once()"
      ],
      "metadata": {
        "colab": {
          "base_uri": "https://localhost:8080/"
        },
        "id": "GZ9pk8bH58UP",
        "outputId": "2e3157f9-4491-454c-e5cc-45cd721375b7"
      },
      "execution_count": 31,
      "outputs": [
        {
          "output_type": "stream",
          "name": "stdout",
          "text": [
            "Initializing Normal\n",
            "Initializing Count\n",
            "[DEBUG] root                 : Parallel.tick()\n",
            "[DEBUG] root                 : Parallel.tick(): re-initialising\n",
            "[DEBUG] Normal               : Normal.tick()\n",
            "Siuu\n",
            "[DEBUG] Normal               : Normal.stop(Status.INVALID->Status.SUCCESS)\n",
            "[DEBUG] Count                : Count.tick()\n",
            "[DEBUG] Count                : Count.stop(Status.INVALID->Status.SUCCESS)\n",
            "[DEBUG] root                 : Parallel.stop()[Status.INVALID->Status.SUCCESS]\n"
          ]
        },
        {
          "output_type": "stream",
          "name": "stderr",
          "text": [
            "<ipython-input-30-5ff8a80304e6>:10: RuntimeWarning: coroutine 'count_time' was never awaited\n",
            "  count_time()\n",
            "RuntimeWarning: Enable tracemalloc to get the object allocation traceback\n"
          ]
        }
      ]
    },
    {
      "cell_type": "code",
      "source": [
        "class BTRoam:\n",
        "    def __init__(self):\n",
        "        self.root = pt.composites.Parallel(\"Parallel\", policy=pt.common.ParallelPolicy.SuccessOnAll())\n",
        "        self.root.add_children([Normal(), Count()])\n",
        "\n",
        "        self.behaviour_tree = pt.trees.BehaviourTree(self.root)\n",
        "\n",
        "    # Function to set invalid state for a node and its children recursively\n",
        "    def set_invalid_state(self, node):\n",
        "        node.status = pt.common.Status.INVALID\n",
        "        for child in node.children:\n",
        "            self.set_invalid_state(child)\n",
        "\n",
        "    def stop_behaviour_tree(self):\n",
        "        # Setting all the nodes to invalid, we force the associated asyncio tasks to be cancelled\n",
        "        self.set_invalid_state(self.root)\n",
        "\n",
        "    async def tick(self):\n",
        "        self.behaviour_tree.tick()\n",
        "        await asyncio.sleep(0)\n"
      ],
      "metadata": {
        "id": "n3UT7aYhwfHE"
      },
      "execution_count": 13,
      "outputs": []
    },
    {
      "cell_type": "markdown",
      "source": [
        "### Avoid other critters"
      ],
      "metadata": {
        "id": "JGOfCC_VaUNV"
      }
    },
    {
      "cell_type": "markdown",
      "source": [
        "Highest priority action. If the agent detects a critter when it is not performing an action, it will rotate 180 degrees, set the variable following to false and return true"
      ],
      "metadata": {
        "id": "3YjGDRQPaXIx"
      }
    },
    {
      "cell_type": "code",
      "source": [
        "class Is_Critter(pt.behaviour.Behaviour):\n",
        "    def __init__(self, aagent):\n",
        "        self.my_goal = None\n",
        "        print(\"Initializing Is_Critter\")\n",
        "        super(Is_Critter, self).__init__(\"Is_Critter\")\n",
        "        self.my_agent = aagent\n",
        "\n",
        "    def initialise(self):\n",
        "        pass\n",
        "\n",
        "    def update(self):\n",
        "        sensor_obj_info = self.my_agent.rc_sensor.sensor_rays[Sensors.RayCastSensor.OBJECT_INFO]\n",
        "        for index, value in enumerate(sensor_obj_info):\n",
        "            if value:  # there is a hit with an object\n",
        "                if value[\"tag\"] == \"CritterMantaRay\":  # If it is another critter\n",
        "                    print(\"A critter! Run!\")\n",
        "                    following = False\n",
        "                    return pt.common.Status.SUCCESS\n",
        "\n",
        "        return pt.common.Status.FAILURE\n",
        "\n",
        "    def terminate(self, new_status: common.Status):\n",
        "        pass"
      ],
      "metadata": {
        "id": "WDdV7dp5aNf_"
      },
      "execution_count": null,
      "outputs": []
    },
    {
      "cell_type": "markdown",
      "source": [
        "### Eat flowers"
      ],
      "metadata": {
        "id": "-bGWq6CIeLoj"
      }
    },
    {
      "cell_type": "markdown",
      "source": [
        "Second highest priority action. If the agent is hungry and detects a flower, it will approach it and eat for 5 seconds, set following to false and continue"
      ],
      "metadata": {
        "id": "jXzL4r_OePMf"
      }
    },
    {
      "cell_type": "code",
      "source": [
        "class Is_Hungry(pt.behaviour.Behaviour):\n",
        "    def __init__(self, aagent):\n",
        "        self.my_goal = None\n",
        "        print(\"Initializing Is_Hungry\")\n",
        "        super(Is_Hungry, self).__init__(\"Is_Hungry\")\n",
        "        self.my_agent = aagent\n",
        "\n",
        "    def initialise(self):\n",
        "        pass\n",
        "\n",
        "    def update(self):\n",
        "        if hungry:\n",
        "          print(\"I am hungry!\")\n",
        "          return pt.common.Status.SUCCESS\n",
        "\n",
        "        return pt.common.Status.FAILURE\n",
        "\n",
        "    def terminate(self, new_status: common.Status):\n",
        "        pass"
      ],
      "metadata": {
        "id": "Mi6JFkbjhnPl"
      },
      "execution_count": null,
      "outputs": []
    },
    {
      "cell_type": "code",
      "source": [
        "class Is_Flower(pt.behaviour.Behaviour):\n",
        "    def __init__(self, aagent):\n",
        "        self.my_goal = None\n",
        "        print(\"Initializing Is_Flower\")\n",
        "        super(Is_Flower, self).__init__(\"Is_Flower\")\n",
        "        self.my_agent = aagent\n",
        "\n",
        "    def initialise(self):\n",
        "        pass\n",
        "\n",
        "    def update(self):\n",
        "        sensor_obj_info = self.my_agent.rc_sensor.sensor_rays[Sensors.RayCastSensor.OBJECT_INFO]\n",
        "        for index, value in enumerate(sensor_obj_info):\n",
        "            if value:  # there is a hit with an object\n",
        "                if value[\"tag\"] == \"Flower\":  # If it is another critter\n",
        "                    print(\"Flower found!\")\n",
        "                    following = False\n",
        "                    return pt.common.Status.SUCCESS\n",
        "\n",
        "        return pt.common.Status.FAILURE\n",
        "\n",
        "    def terminate(self, new_status: common.Status):\n",
        "        pass"
      ],
      "metadata": {
        "id": "AjdKO4gwecwk"
      },
      "execution_count": null,
      "outputs": []
    },
    {
      "cell_type": "markdown",
      "source": [
        "### Follow astronaut"
      ],
      "metadata": {
        "id": "9av0l2RQe6CZ"
      }
    },
    {
      "cell_type": "markdown",
      "source": [
        "Third highest priority action. If the agent encouters an astronaut, it will follow it until it loses its track or other higher priority action is triggered."
      ],
      "metadata": {
        "id": "P8EnU9qae9SY"
      }
    },
    {
      "cell_type": "code",
      "source": [
        "class Is_Astronaut(pt.behaviour.Behaviour):\n",
        "    def __init__(self, aagent):\n",
        "        self.my_goal = None\n",
        "        print(\"Initializing Is_Astronaut\")\n",
        "        super(Is_Astronaut, self).__init__(\"Is_Astronaut\")\n",
        "        self.my_agent = aagent\n",
        "\n",
        "    def initialise(self):\n",
        "        pass\n",
        "\n",
        "    def update(self):\n",
        "        sensor_obj_info = self.my_agent.rc_sensor.sensor_rays[Sensors.RayCastSensor.OBJECT_INFO]\n",
        "        for index, value in enumerate(sensor_obj_info):\n",
        "            if value:  # there is a hit with an object\n",
        "                if value[\"tag\"] == \"Astronaut\":  # If it is another critter\n",
        "                    print(\"Astronaut encountered!\")\n",
        "                    following = True\n",
        "                    return pt.common.Status.SUCCESS\n",
        "\n",
        "        return pt.common.Status.FAILURE\n",
        "\n",
        "    def terminate(self, new_status: common.Status):\n",
        "        pass"
      ],
      "metadata": {
        "id": "MfAB3cNOfLX3"
      },
      "execution_count": null,
      "outputs": []
    },
    {
      "cell_type": "markdown",
      "source": [
        "### Search for astronaut"
      ],
      "metadata": {
        "id": "gMsWGCQ3fsMZ"
      }
    },
    {
      "cell_type": "markdown",
      "source": [
        "This action is triggered when the agent was following the astronaut and it loses its track. The agent will look for it a bit, if it finds it we will return to follow astronaut, if not we will stop following/searching the astronaut"
      ],
      "metadata": {
        "id": "zGqB1xuKfugE"
      }
    },
    {
      "cell_type": "code",
      "source": [
        "class Is_Following(pt.behaviour.Behaviour):\n",
        "    def __init__(self, aagent):\n",
        "        self.my_goal = None\n",
        "        print(\"Initializing Is_Following\")\n",
        "        super(Is_Following, self).__init__(\"Is_Following\")\n",
        "        self.my_agent = aagent\n",
        "\n",
        "    def initialise(self):\n",
        "        pass\n",
        "\n",
        "    def update(self):\n",
        "        if following:\n",
        "          print(\"Astronaut lost!\")\n",
        "          return pt.common.Status.SUCCESS\n",
        "\n",
        "        return pt.common.Status.FAILURE\n",
        "\n",
        "    def terminate(self, new_status: common.Status):\n",
        "        pass"
      ],
      "metadata": {
        "id": "_YsHPYh-f9-o"
      },
      "execution_count": null,
      "outputs": []
    },
    {
      "cell_type": "markdown",
      "source": [
        "### Global tree"
      ],
      "metadata": {
        "id": "TCPVOC5qaOqg"
      }
    },
    {
      "cell_type": "code",
      "source": [
        "class GlobalBT:\n",
        "    def __init__(self, aagent):\n",
        "        # Initialize agent atributes\n",
        "        self.aagent = aagent\n",
        "        self.initTime = time.time()\n",
        "        self.timer = 0\n",
        "        self.hungry = False\n",
        "        self.following = False\n",
        "\n",
        "        # Create main tree\n",
        "        avoid = pt.composites.Sequence(name=\"Avoid critter\", memory=True)\n",
        "        avoid.add_children([Is_Critter(aagent), Avoiding(aagent)])\n",
        "\n",
        "        eat = pt.composites.Sequence(\"Eat\", memory=True)\n",
        "        eat.add_children([Is_Hungry(aagent), Is_Flower(aagent), Eating(aagent)])\n",
        "\n",
        "        follow = pt.composites.Sequence(\"Follow astronaut\", memory=True)\n",
        "        follow.add_children([Is_Astronaut(aagent), Following(aagent)])\n",
        "\n",
        "        search = pt.composites.Sequence(\"Search astronaut\", memory=True)\n",
        "        search.add_children([Is_Following(aagent), Searching(aagent)])\n",
        "\n",
        "        self.root = pt.composites.Selector(name=\"Selector\", memory=False)\n",
        "        self.root.add_children([avoid(aagent), eat(aagent), follow(aagent), search(aagent), roam(aagent)])\n",
        "\n",
        "        self.behaviour_tree = pt.trees.BehaviourTree(self.root)\n",
        "\n",
        "    # Function to set invalid state for a node and its children recursively\n",
        "    def set_invalid_state(self, node):\n",
        "        node.status = pt.common.Status.INVALID\n",
        "        for child in node.children:\n",
        "            self.set_invalid_state(child)\n",
        "\n",
        "    def stop_behaviour_tree(self):\n",
        "        # Setting all the nodes to invalid, we force the associated asyncio tasks to be cancelled\n",
        "        self.set_invalid_state(self.root)\n",
        "\n",
        "    async def tick(self):\n",
        "        self.timer = time.time() - self.initTime\n",
        "        if self.time < 15:\n",
        "          self.hungry = False\n",
        "        else:\n",
        "          self.hungry = True\n",
        "        self.behaviour_tree.tick()\n",
        "        await asyncio.sleep(0)"
      ],
      "metadata": {
        "id": "5gjsbQHnX8TT"
      },
      "execution_count": null,
      "outputs": []
    },
    {
      "cell_type": "markdown",
      "source": [
        "# Other"
      ],
      "metadata": {
        "id": "JRQaz_cyaMM4"
      }
    },
    {
      "cell_type": "markdown",
      "source": [
        "###Exercise 1: Build and run a simple tree"
      ],
      "metadata": {
        "id": "ujbNDIc6O-q4"
      }
    },
    {
      "cell_type": "code",
      "source": [
        "# A: Implement a condition node that always returns failure\n",
        "\n",
        "class AlwaysFail(Behaviour):\n",
        "    def __init__(self, name):\n",
        "        super(AlwaysFail, self).__init__(name)\n",
        "        \"\"\" The constructor of this class \"\"\"\n",
        "\n",
        "\n",
        "    def setup(self):\n",
        "        self.logger.debug(f\"AlwaysFail::setup {self.name}\")\n",
        "        \"\"\" This mehod Allows you to do some more initialization later, which cannot yet be done yet at the time of construction\n",
        "            (e.g. after the node has been added to the tree).\n",
        "            If you want to use this method you need to write the code that calls it yourself.\n",
        "            However, you can probably ignore this method.\n",
        "        \"\"\"\n",
        "\n",
        "    def initialise(self):\n",
        "        self.logger.debug(f\"AlwaysFail::initialise {self.name}\")\n",
        "        \"\"\"\n",
        "            This method is called whenever a new execution of the action corresponding to this node must be started.\n",
        "            That is, it is called when the node is ticked and:\n",
        "                - This node has not been ticked before, or\n",
        "                - After the previous tick, this node returned SUCCES or FAILURE\n",
        "            So, if this node is ticked, and on the previous tick it returned RUNNING, then this method will *not* be called.\n",
        "        \"\"\"\n",
        "\n",
        "    def update(self):\n",
        "        self.logger.debug(f\"AlwaysFail::update {self.name}\")\n",
        "        \"\"\"\n",
        "            This method is called every time the node is ticked.\n",
        "            It must return SUCCESS, FAILURE, or RUNNING.\n",
        "        \"\"\"\n",
        "        return Status.FAILURE\n",
        "\n",
        "    def terminate(self, new_status:Status):\n",
        "        self.logger.debug(f\"AlwaysFail::terminate {self.name}. Terminated with status {new_status}\")\n",
        "        \"\"\"\n",
        "            This method is called whenever the action corresponding to this node has finished its execution.\n",
        "            That is, if the update() method has returned either SUCCESS or FAILURE.\n",
        "        \"\"\""
      ],
      "metadata": {
        "id": "vQMBuGW5PBSH"
      },
      "execution_count": null,
      "outputs": []
    },
    {
      "cell_type": "code",
      "source": [
        "# B: Implement main\n",
        "\n",
        "log_tree.level = log_tree.Level.DEBUG\n",
        "\n",
        "treeRoot = Selector(name=\"root\", memory=False)\n",
        "insideHouse = AlwaysFail(name=\"inside house\")\n",
        "walkThroughDoor = AlwaysSuccess(name=\"walk through door\")\n",
        "\n",
        "treeRoot.add_children([insideHouse, walkThroughDoor])\n",
        "\n",
        "treeRoot.tick_once()"
      ],
      "metadata": {
        "colab": {
          "base_uri": "https://localhost:8080/"
        },
        "id": "x8TiLBvgPg9_",
        "outputId": "9b8b0848-4c1d-4c2c-c909-50973a3befce"
      },
      "execution_count": null,
      "outputs": [
        {
          "output_type": "stream",
          "name": "stdout",
          "text": [
            "[DEBUG] root                 : Selector.tick()\n",
            "[DEBUG] root                 : Selector.tick() [!RUNNING->reset current_child]\n",
            "[DEBUG] inside house         : AlwaysFail.tick()\n",
            "[DEBUG] inside house         : AlwaysFail::initialise inside house\n",
            "[DEBUG] inside house         : AlwaysFail::update inside house\n",
            "[DEBUG] inside house         : AlwaysFail.stop(Status.INVALID->Status.FAILURE)\n",
            "[DEBUG] inside house         : AlwaysFail::terminate inside house. Terminated with status Status.FAILURE\n",
            "[DEBUG] walk through door    : AlwaysSuccess.tick()\n",
            "[DEBUG] walk through door    : AlwaysSuccess::initialise walk through door\n",
            "[DEBUG] walk through door    : AlwaysSuccess::update walk through door\n",
            "[DEBUG] walk through door    : AlwaysSuccess.stop(Status.INVALID->Status.SUCCESS)\n",
            "[DEBUG] walk through door    : AlwaysSuccess::terminate walk through door. Terminated with status Status.SUCCESS\n"
          ]
        }
      ]
    },
    {
      "cell_type": "markdown",
      "source": [
        "### Exercise 2: Visualize your tree"
      ],
      "metadata": {
        "id": "TaKkQBaCU8pq"
      }
    },
    {
      "cell_type": "code",
      "source": [
        "render_dot_tree(treeRoot)\n",
        "plt.imshow(img.imread('/content/root.png') )"
      ],
      "metadata": {
        "colab": {
          "base_uri": "https://localhost:8080/",
          "height": 438
        },
        "id": "tQxSKrVQUHjt",
        "outputId": "a97b0e25-960e-4d49-ad53-a8edc64e7632"
      },
      "execution_count": null,
      "outputs": [
        {
          "output_type": "stream",
          "name": "stdout",
          "text": [
            "Writing /content/root.dot\n",
            "Writing /content/root.png\n",
            "Writing /content/root.svg\n"
          ]
        },
        {
          "output_type": "execute_result",
          "data": {
            "text/plain": [
              "<matplotlib.image.AxesImage at 0x7d01a0ecf730>"
            ]
          },
          "metadata": {},
          "execution_count": 17
        },
        {
          "output_type": "display_data",
          "data": {
            "text/plain": [
              "<Figure size 640x480 with 1 Axes>"
            ],
            "image/png": "[encoded data removed]"
          },
          "metadata": {}
        }
      ]
    },
    {
      "cell_type": "markdown",
      "source": [
        "### Exercise 3: A running action"
      ],
      "metadata": {
        "id": "Vie9fFLkVQxU"
      }
    },
    {
      "cell_type": "code",
      "source": [
        "# A: Implement a condition node that always returns failure\n",
        "\n",
        "class NewAction(Behaviour):\n",
        "    def __init__(self, name):\n",
        "        super(NewAction, self).__init__(name)\n",
        "        self.counter = 0\n",
        "        \"\"\" The constructor of this class \"\"\"\n",
        "\n",
        "\n",
        "\n",
        "    def setup(self):\n",
        "        self.logger.debug(f\"NewAction::setup {self.name}\")\n",
        "        \"\"\" This mehod Allows you to do some more initialization later, which cannot yet be done yet at the time of construction\n",
        "            (e.g. after the node has been added to the tree).\n",
        "            If you want to use this method you need to write the code that calls it yourself.\n",
        "            However, you can probably ignore this method.\n",
        "        \"\"\"\n",
        "\n",
        "    def initialise(self):\n",
        "        self.logger.debug(f\"NewAction::initialise {self.name}\")\n",
        "        \"\"\"\n",
        "            This method is called whenever a new execution of the action corresponding to this node must be started.\n",
        "            That is, it is called when the node is ticked and:\n",
        "                - This node has not been ticked before, or\n",
        "                - After the previous tick, this node returned SUCCES or FAILURE\n",
        "            So, if this node is ticked, and on the previous tick it returned RUNNING, then this method will *not* be called.\n",
        "        \"\"\"\n",
        "        self.counter = 0\n",
        "\n",
        "    def update(self):\n",
        "        self.logger.debug(f\"NewAction::update {self.name}\")\n",
        "        \"\"\"\n",
        "            This method is called every time the node is ticked.\n",
        "            It must return SUCCESS, FAILURE, or RUNNING.\n",
        "        \"\"\"\n",
        "        if self.counter < 2:\n",
        "          self.counter+=1\n",
        "          return Status.RUNNING\n",
        "        else:\n",
        "          return Status.SUCCESS\n",
        "\n",
        "    def terminate(self, new_status:Status):\n",
        "        self.logger.debug(f\"NewAction::terminate {self.name}. Terminated with status {new_status}\")\n",
        "        \"\"\"\n",
        "            This method is called whenever the action corresponding to this node has finished its execution.\n",
        "            That is, if the update() method has returned either SUCCESS or FAILURE.\n",
        "        \"\"\""
      ],
      "metadata": {
        "id": "bKCSxHwHVTNB"
      },
      "execution_count": null,
      "outputs": []
    },
    {
      "cell_type": "code",
      "source": [
        "# B: Adapt the main function\n",
        "\n",
        "log_tree.level = log_tree.Level.DEBUG\n",
        "\n",
        "treeRoot = Selector(name=\"root\", memory=False)\n",
        "insideHouse = AlwaysFail(name=\"inside house\")\n",
        "walkThroughDoor = NewAction(name=\"walk through door\")\n",
        "\n",
        "treeRoot.add_children([insideHouse, walkThroughDoor])\n",
        "\n",
        "for i in range(1,20):\n",
        "  try:\n",
        "    print(\"New tick\")\n",
        "    treeRoot.tick_once()\n",
        "    sleep(0.1)\n",
        "  except KeyboardInterrupt:\n",
        "    break"
      ],
      "metadata": {
        "colab": {
          "base_uri": "https://localhost:8080/"
        },
        "id": "GuuC2r89XMiQ",
        "outputId": "d2d2950b-8599-4a72-fc88-bb0e6c7044e0"
      },
      "execution_count": null,
      "outputs": [
        {
          "output_type": "stream",
          "name": "stdout",
          "text": [
            "New tick\n",
            "[DEBUG] root                 : Selector.tick()\n",
            "[DEBUG] root                 : Selector.tick() [!RUNNING->reset current_child]\n",
            "[DEBUG] inside house         : AlwaysFail.tick()\n",
            "[DEBUG] inside house         : AlwaysFail::initialise inside house\n",
            "[DEBUG] inside house         : AlwaysFail::update inside house\n",
            "[DEBUG] inside house         : AlwaysFail.stop(Status.INVALID->Status.FAILURE)\n",
            "[DEBUG] inside house         : AlwaysFail::terminate inside house. Terminated with status Status.FAILURE\n",
            "[DEBUG] walk through door    : NewAction.tick()\n",
            "[DEBUG] walk through door    : NewAction::initialise walk through door\n",
            "[DEBUG] walk through door    : NewAction::update walk through door\n",
            "New tick\n",
            "[DEBUG] root                 : Selector.tick()\n",
            "[DEBUG] inside house         : AlwaysFail.tick()\n",
            "[DEBUG] inside house         : AlwaysFail::initialise inside house\n",
            "[DEBUG] inside house         : AlwaysFail::update inside house\n",
            "[DEBUG] inside house         : AlwaysFail.stop(Status.FAILURE)\n",
            "[DEBUG] inside house         : AlwaysFail::terminate inside house. Terminated with status Status.FAILURE\n",
            "[DEBUG] walk through door    : NewAction.tick()\n",
            "[DEBUG] walk through door    : NewAction::update walk through door\n",
            "New tick\n",
            "[DEBUG] root                 : Selector.tick()\n",
            "[DEBUG] inside house         : AlwaysFail.tick()\n",
            "[DEBUG] inside house         : AlwaysFail::initialise inside house\n",
            "[DEBUG] inside house         : AlwaysFail::update inside house\n",
            "[DEBUG] inside house         : AlwaysFail.stop(Status.FAILURE)\n",
            "[DEBUG] inside house         : AlwaysFail::terminate inside house. Terminated with status Status.FAILURE\n",
            "[DEBUG] walk through door    : NewAction.tick()\n",
            "[DEBUG] walk through door    : NewAction::update walk through door\n",
            "[DEBUG] walk through door    : NewAction.stop(Status.RUNNING->Status.SUCCESS)\n",
            "[DEBUG] walk through door    : NewAction::terminate walk through door. Terminated with status Status.SUCCESS\n",
            "New tick\n",
            "[DEBUG] root                 : Selector.tick()\n",
            "[DEBUG] root                 : Selector.tick() [!RUNNING->reset current_child]\n",
            "[DEBUG] inside house         : AlwaysFail.tick()\n",
            "[DEBUG] inside house         : AlwaysFail::initialise inside house\n",
            "[DEBUG] inside house         : AlwaysFail::update inside house\n",
            "[DEBUG] inside house         : AlwaysFail.stop(Status.FAILURE)\n",
            "[DEBUG] inside house         : AlwaysFail::terminate inside house. Terminated with status Status.FAILURE\n",
            "[DEBUG] walk through door    : NewAction.tick()\n",
            "[DEBUG] walk through door    : NewAction::initialise walk through door\n",
            "[DEBUG] walk through door    : NewAction::update walk through door\n",
            "New tick\n",
            "[DEBUG] root                 : Selector.tick()\n",
            "[DEBUG] inside house         : AlwaysFail.tick()\n",
            "[DEBUG] inside house         : AlwaysFail::initialise inside house\n",
            "[DEBUG] inside house         : AlwaysFail::update inside house\n",
            "[DEBUG] inside house         : AlwaysFail.stop(Status.FAILURE)\n",
            "[DEBUG] inside house         : AlwaysFail::terminate inside house. Terminated with status Status.FAILURE\n",
            "[DEBUG] walk through door    : NewAction.tick()\n",
            "[DEBUG] walk through door    : NewAction::update walk through door\n",
            "New tick\n",
            "[DEBUG] root                 : Selector.tick()\n",
            "[DEBUG] inside house         : AlwaysFail.tick()\n",
            "[DEBUG] inside house         : AlwaysFail::initialise inside house\n",
            "[DEBUG] inside house         : AlwaysFail::update inside house\n",
            "[DEBUG] inside house         : AlwaysFail.stop(Status.FAILURE)\n",
            "[DEBUG] inside house         : AlwaysFail::terminate inside house. Terminated with status Status.FAILURE\n",
            "[DEBUG] walk through door    : NewAction.tick()\n",
            "[DEBUG] walk through door    : NewAction::update walk through door\n",
            "[DEBUG] walk through door    : NewAction.stop(Status.RUNNING->Status.SUCCESS)\n",
            "[DEBUG] walk through door    : NewAction::terminate walk through door. Terminated with status Status.SUCCESS\n",
            "New tick\n",
            "[DEBUG] root                 : Selector.tick()\n",
            "[DEBUG] root                 : Selector.tick() [!RUNNING->reset current_child]\n",
            "[DEBUG] inside house         : AlwaysFail.tick()\n",
            "[DEBUG] inside house         : AlwaysFail::initialise inside house\n",
            "[DEBUG] inside house         : AlwaysFail::update inside house\n",
            "[DEBUG] inside house         : AlwaysFail.stop(Status.FAILURE)\n",
            "[DEBUG] inside house         : AlwaysFail::terminate inside house. Terminated with status Status.FAILURE\n",
            "[DEBUG] walk through door    : NewAction.tick()\n",
            "[DEBUG] walk through door    : NewAction::initialise walk through door\n",
            "[DEBUG] walk through door    : NewAction::update walk through door\n",
            "New tick\n",
            "[DEBUG] root                 : Selector.tick()\n",
            "[DEBUG] inside house         : AlwaysFail.tick()\n",
            "[DEBUG] inside house         : AlwaysFail::initialise inside house\n",
            "[DEBUG] inside house         : AlwaysFail::update inside house\n",
            "[DEBUG] inside house         : AlwaysFail.stop(Status.FAILURE)\n",
            "[DEBUG] inside house         : AlwaysFail::terminate inside house. Terminated with status Status.FAILURE\n",
            "[DEBUG] walk through door    : NewAction.tick()\n",
            "[DEBUG] walk through door    : NewAction::update walk through door\n",
            "New tick\n",
            "[DEBUG] root                 : Selector.tick()\n",
            "[DEBUG] inside house         : AlwaysFail.tick()\n",
            "[DEBUG] inside house         : AlwaysFail::initialise inside house\n",
            "[DEBUG] inside house         : AlwaysFail::update inside house\n",
            "[DEBUG] inside house         : AlwaysFail.stop(Status.FAILURE)\n",
            "[DEBUG] inside house         : AlwaysFail::terminate inside house. Terminated with status Status.FAILURE\n",
            "[DEBUG] walk through door    : NewAction.tick()\n",
            "[DEBUG] walk through door    : NewAction::update walk through door\n",
            "[DEBUG] walk through door    : NewAction.stop(Status.RUNNING->Status.SUCCESS)\n",
            "[DEBUG] walk through door    : NewAction::terminate walk through door. Terminated with status Status.SUCCESS\n",
            "New tick\n",
            "[DEBUG] root                 : Selector.tick()\n",
            "[DEBUG] root                 : Selector.tick() [!RUNNING->reset current_child]\n",
            "[DEBUG] inside house         : AlwaysFail.tick()\n",
            "[DEBUG] inside house         : AlwaysFail::initialise inside house\n",
            "[DEBUG] inside house         : AlwaysFail::update inside house\n",
            "[DEBUG] inside house         : AlwaysFail.stop(Status.FAILURE)\n",
            "[DEBUG] inside house         : AlwaysFail::terminate inside house. Terminated with status Status.FAILURE\n",
            "[DEBUG] walk through door    : NewAction.tick()\n",
            "[DEBUG] walk through door    : NewAction::initialise walk through door\n",
            "[DEBUG] walk through door    : NewAction::update walk through door\n",
            "New tick\n",
            "[DEBUG] root                 : Selector.tick()\n",
            "[DEBUG] inside house         : AlwaysFail.tick()\n",
            "[DEBUG] inside house         : AlwaysFail::initialise inside house\n",
            "[DEBUG] inside house         : AlwaysFail::update inside house\n",
            "[DEBUG] inside house         : AlwaysFail.stop(Status.FAILURE)\n",
            "[DEBUG] inside house         : AlwaysFail::terminate inside house. Terminated with status Status.FAILURE\n",
            "[DEBUG] walk through door    : NewAction.tick()\n",
            "[DEBUG] walk through door    : NewAction::update walk through door\n",
            "New tick\n",
            "[DEBUG] root                 : Selector.tick()\n",
            "[DEBUG] inside house         : AlwaysFail.tick()\n",
            "[DEBUG] inside house         : AlwaysFail::initialise inside house\n",
            "[DEBUG] inside house         : AlwaysFail::update inside house\n",
            "[DEBUG] inside house         : AlwaysFail.stop(Status.FAILURE)\n",
            "[DEBUG] inside house         : AlwaysFail::terminate inside house. Terminated with status Status.FAILURE\n",
            "[DEBUG] walk through door    : NewAction.tick()\n",
            "[DEBUG] walk through door    : NewAction::update walk through door\n",
            "[DEBUG] walk through door    : NewAction.stop(Status.RUNNING->Status.SUCCESS)\n",
            "[DEBUG] walk through door    : NewAction::terminate walk through door. Terminated with status Status.SUCCESS\n",
            "New tick\n",
            "[DEBUG] root                 : Selector.tick()\n",
            "[DEBUG] root                 : Selector.tick() [!RUNNING->reset current_child]\n",
            "[DEBUG] inside house         : AlwaysFail.tick()\n",
            "[DEBUG] inside house         : AlwaysFail::initialise inside house\n",
            "[DEBUG] inside house         : AlwaysFail::update inside house\n",
            "[DEBUG] inside house         : AlwaysFail.stop(Status.FAILURE)\n",
            "[DEBUG] inside house         : AlwaysFail::terminate inside house. Terminated with status Status.FAILURE\n",
            "[DEBUG] walk through door    : NewAction.tick()\n",
            "[DEBUG] walk through door    : NewAction::initialise walk through door\n",
            "[DEBUG] walk through door    : NewAction::update walk through door\n",
            "New tick\n",
            "[DEBUG] root                 : Selector.tick()\n",
            "[DEBUG] inside house         : AlwaysFail.tick()\n",
            "[DEBUG] inside house         : AlwaysFail::initialise inside house\n",
            "[DEBUG] inside house         : AlwaysFail::update inside house\n",
            "[DEBUG] inside house         : AlwaysFail.stop(Status.FAILURE)\n",
            "[DEBUG] inside house         : AlwaysFail::terminate inside house. Terminated with status Status.FAILURE\n",
            "[DEBUG] walk through door    : NewAction.tick()\n",
            "[DEBUG] walk through door    : NewAction::update walk through door\n",
            "New tick\n",
            "[DEBUG] root                 : Selector.tick()\n",
            "[DEBUG] inside house         : AlwaysFail.tick()\n",
            "[DEBUG] inside house         : AlwaysFail::initialise inside house\n",
            "[DEBUG] inside house         : AlwaysFail::update inside house\n",
            "[DEBUG] inside house         : AlwaysFail.stop(Status.FAILURE)\n",
            "[DEBUG] inside house         : AlwaysFail::terminate inside house. Terminated with status Status.FAILURE\n",
            "[DEBUG] walk through door    : NewAction.tick()\n",
            "[DEBUG] walk through door    : NewAction::update walk through door\n",
            "[DEBUG] walk through door    : NewAction.stop(Status.RUNNING->Status.SUCCESS)\n",
            "[DEBUG] walk through door    : NewAction::terminate walk through door. Terminated with status Status.SUCCESS\n",
            "New tick\n",
            "[DEBUG] root                 : Selector.tick()\n",
            "[DEBUG] root                 : Selector.tick() [!RUNNING->reset current_child]\n",
            "[DEBUG] inside house         : AlwaysFail.tick()\n",
            "[DEBUG] inside house         : AlwaysFail::initialise inside house\n",
            "[DEBUG] inside house         : AlwaysFail::update inside house\n",
            "[DEBUG] inside house         : AlwaysFail.stop(Status.FAILURE)\n",
            "[DEBUG] inside house         : AlwaysFail::terminate inside house. Terminated with status Status.FAILURE\n",
            "[DEBUG] walk through door    : NewAction.tick()\n",
            "[DEBUG] walk through door    : NewAction::initialise walk through door\n",
            "[DEBUG] walk through door    : NewAction::update walk through door\n",
            "New tick\n",
            "[DEBUG] root                 : Selector.tick()\n",
            "[DEBUG] inside house         : AlwaysFail.tick()\n",
            "[DEBUG] inside house         : AlwaysFail::initialise inside house\n",
            "[DEBUG] inside house         : AlwaysFail::update inside house\n",
            "[DEBUG] inside house         : AlwaysFail.stop(Status.FAILURE)\n",
            "[DEBUG] inside house         : AlwaysFail::terminate inside house. Terminated with status Status.FAILURE\n",
            "[DEBUG] walk through door    : NewAction.tick()\n",
            "[DEBUG] walk through door    : NewAction::update walk through door\n"
          ]
        }
      ]
    },
    {
      "cell_type": "markdown",
      "source": [
        "### Exercise 4: Update the state"
      ],
      "metadata": {
        "id": "vLfLCA2KYXwy"
      }
    },
    {
      "cell_type": "code",
      "source": [
        "# Variable class\n",
        "\n",
        "class Environment:\n",
        "  def __init__(self):\n",
        "    self.AgentInsideHouse = None"
      ],
      "metadata": {
        "id": "i3zrYfwEa8Bm"
      },
      "execution_count": null,
      "outputs": []
    },
    {
      "cell_type": "code",
      "source": [
        "# Inside house class\n",
        "\n",
        "class InsideHouse(Behaviour):\n",
        "    def __init__(self, name, env):\n",
        "        super(InsideHouse, self).__init__(name)\n",
        "        self.env = env\n",
        "        \"\"\" The constructor of this class \"\"\"\n",
        "\n",
        "    def setup(self):\n",
        "        self.logger.debug(f\"InsideHouse::setup {self.name}\")\n",
        "        \"\"\" This mehod Allows you to do some more initialization later, which cannot yet be done yet at the time of construction\n",
        "            (e.g. after the node has been added to the tree).\n",
        "            If you want to use this method you need to write the code that calls it yourself.\n",
        "            However, you can probably ignore this method.\n",
        "        \"\"\"\n",
        "\n",
        "    def initialise(self):\n",
        "        self.logger.debug(f\"InsideHouse::initialise {self.name}\")\n",
        "        \"\"\"\n",
        "            This method is called whenever a new execution of the action corresponding to this node must be started.\n",
        "            That is, it is called when the node is ticked and:\n",
        "                - This node has not been ticked before, or\n",
        "                - After the previous tick, this node returned SUCCES or FAILURE\n",
        "            So, if this node is ticked, and on the previous tick it returned RUNNING, then this method will *not* be called.\n",
        "        \"\"\"\n",
        "\n",
        "    def update(self):\n",
        "        self.logger.debug(f\"InsideHouse::update {self.name}\")\n",
        "        \"\"\"\n",
        "            This method is called every time the node is ticked.\n",
        "            It must return SUCCESS, FAILURE, or RUNNING.\n",
        "        \"\"\"\n",
        "        if env.AgentInsideHouse == True:\n",
        "          print(\"SUCCESS\")\n",
        "          return Status.SUCCESS\n",
        "        else:\n",
        "          print(\"FAILURE\")\n",
        "          return Status.FAILURE\n",
        "\n",
        "    def terminate(self, new_status:Status):\n",
        "        self.logger.debug(f\"NewAction::terminate {self.name}. Terminated with status {new_status}\")\n",
        "        \"\"\"\n",
        "            This method is called whenever the action corresponding to this node has finished its execution.\n",
        "            That is, if the update() method has returned either SUCCESS or FAILURE.\n",
        "        \"\"\""
      ],
      "metadata": {
        "id": "1AK7Bj5qaBb6"
      },
      "execution_count": null,
      "outputs": []
    },
    {
      "cell_type": "code",
      "source": [
        "# A: Implement a condition node that always returns failure\n",
        "\n",
        "class WalkThroughDoor(Behaviour):\n",
        "    def __init__(self, name, env):\n",
        "        super(WalkThroughDoor, self).__init__(name)\n",
        "        self.env = env\n",
        "        \"\"\" The constructor of this class \"\"\"\n",
        "\n",
        "\n",
        "\n",
        "    def setup(self):\n",
        "        self.logger.debug(f\"WalkThroughDoor::setup {self.name}\")\n",
        "        \"\"\" This mehod Allows you to do some more initialization later, which cannot yet be done yet at the time of construction\n",
        "            (e.g. after the node has been added to the tree).\n",
        "            If you want to use this method you need to write the code that calls it yourself.\n",
        "            However, you can probably ignore this method.\n",
        "        \"\"\"\n",
        "\n",
        "    def initialise(self):\n",
        "        self.logger.debug(f\"WalkThroughDoor::initialise {self.name}\")\n",
        "        \"\"\"\n",
        "            This method is called whenever a new execution of the action corresponding to this node must be started.\n",
        "            That is, it is called when the node is ticked and:\n",
        "                - This node has not been ticked before, or\n",
        "                - After the previous tick, this node returned SUCCES or FAILURE\n",
        "            So, if this node is ticked, and on the previous tick it returned RUNNING, then this method will *not* be called.\n",
        "        \"\"\"\n",
        "\n",
        "    def update(self):\n",
        "        self.logger.debug(f\"WalkThroughDoor::update {self.name}\")\n",
        "        \"\"\"\n",
        "            This method is called every time the node is ticked.\n",
        "            It must return SUCCESS, FAILURE, or RUNNING.\n",
        "        \"\"\"\n",
        "        env.AgentInsideHouse = True\n",
        "        return Status.SUCCESS\n",
        "\n",
        "    def terminate(self, new_status:Status):\n",
        "        self.logger.debug(f\"WalkThroughDoor::terminate {self.name}. Terminated with status {new_status}\")\n",
        "        \"\"\"\n",
        "            This method is called whenever the action corresponding to this node has finished its execution.\n",
        "            That is, if the update() method has returned either SUCCESS or FAILURE.\n",
        "        \"\"\""
      ],
      "metadata": {
        "id": "oFByILUDbvtO"
      },
      "execution_count": null,
      "outputs": []
    },
    {
      "cell_type": "code",
      "source": [
        "# B: Adapt the main function\n",
        "\n",
        "log_tree.level = log_tree.Level.DEBUG\n",
        "\n",
        "env = Environment()\n",
        "treeRoot = Selector(name=\"root\", memory=False)\n",
        "insideHouse = InsideHouse(name=\"inside house\", env=env)\n",
        "walkThroughDoor = WalkThroughDoor(name=\"walk through door\", env=env)\n",
        "\n",
        "treeRoot.add_children([insideHouse, walkThroughDoor])\n",
        "\n",
        "for i in range(1,20):\n",
        "  try:\n",
        "    print(\"New tick\")\n",
        "    treeRoot.tick_once()\n",
        "    sleep(0.1)\n",
        "  except KeyboardInterrupt:\n",
        "    break"
      ],
      "metadata": {
        "colab": {
          "base_uri": "https://localhost:8080/"
        },
        "id": "7nB-xTTHYazz",
        "outputId": "0bb282de-6b4e-4f1a-b9d1-6ea2bfc653e5"
      },
      "execution_count": null,
      "outputs": [
        {
          "output_type": "stream",
          "name": "stdout",
          "text": [
            "New tick\n",
            "[DEBUG] root                 : Selector.tick()\n",
            "[DEBUG] root                 : Selector.tick() [!RUNNING->reset current_child]\n",
            "[DEBUG] inside house         : InsideHouse.tick()\n",
            "[DEBUG] inside house         : InsideHouse::initialise inside house\n",
            "[DEBUG] inside house         : InsideHouse::update inside house\n",
            "FAILURE\n",
            "[DEBUG] inside house         : InsideHouse.stop(Status.INVALID->Status.FAILURE)\n",
            "[DEBUG] inside house         : NewAction::terminate inside house. Terminated with status Status.FAILURE\n",
            "[DEBUG] walk through door    : WalkThroughDoor.tick()\n",
            "[DEBUG] walk through door    : WalkThroughDoor::initialise walk through door\n",
            "[DEBUG] walk through door    : WalkThroughDoor::update walk through door\n",
            "[DEBUG] walk through door    : WalkThroughDoor.stop(Status.INVALID->Status.SUCCESS)\n",
            "[DEBUG] walk through door    : WalkThroughDoor::terminate walk through door. Terminated with status Status.SUCCESS\n",
            "New tick\n",
            "[DEBUG] root                 : Selector.tick()\n",
            "[DEBUG] root                 : Selector.tick() [!RUNNING->reset current_child]\n",
            "[DEBUG] inside house         : InsideHouse.tick()\n",
            "[DEBUG] inside house         : InsideHouse::initialise inside house\n",
            "[DEBUG] inside house         : InsideHouse::update inside house\n",
            "SUCCESS\n",
            "[DEBUG] inside house         : InsideHouse.stop(Status.FAILURE->Status.SUCCESS)\n",
            "[DEBUG] inside house         : NewAction::terminate inside house. Terminated with status Status.SUCCESS\n",
            "New tick\n",
            "[DEBUG] root                 : Selector.tick()\n",
            "[DEBUG] root                 : Selector.tick() [!RUNNING->reset current_child]\n",
            "[DEBUG] inside house         : InsideHouse.tick()\n",
            "[DEBUG] inside house         : InsideHouse::initialise inside house\n",
            "[DEBUG] inside house         : InsideHouse::update inside house\n",
            "SUCCESS\n",
            "[DEBUG] inside house         : InsideHouse.stop(Status.SUCCESS)\n",
            "[DEBUG] inside house         : NewAction::terminate inside house. Terminated with status Status.SUCCESS\n",
            "New tick\n",
            "[DEBUG] root                 : Selector.tick()\n",
            "[DEBUG] root                 : Selector.tick() [!RUNNING->reset current_child]\n",
            "[DEBUG] inside house         : InsideHouse.tick()\n",
            "[DEBUG] inside house         : InsideHouse::initialise inside house\n",
            "[DEBUG] inside house         : InsideHouse::update inside house\n",
            "SUCCESS\n",
            "[DEBUG] inside house         : InsideHouse.stop(Status.SUCCESS)\n",
            "[DEBUG] inside house         : NewAction::terminate inside house. Terminated with status Status.SUCCESS\n",
            "New tick\n",
            "[DEBUG] root                 : Selector.tick()\n",
            "[DEBUG] root                 : Selector.tick() [!RUNNING->reset current_child]\n",
            "[DEBUG] inside house         : InsideHouse.tick()\n",
            "[DEBUG] inside house         : InsideHouse::initialise inside house\n",
            "[DEBUG] inside house         : InsideHouse::update inside house\n",
            "SUCCESS\n",
            "[DEBUG] inside house         : InsideHouse.stop(Status.SUCCESS)\n",
            "[DEBUG] inside house         : NewAction::terminate inside house. Terminated with status Status.SUCCESS\n",
            "New tick\n",
            "[DEBUG] root                 : Selector.tick()\n",
            "[DEBUG] root                 : Selector.tick() [!RUNNING->reset current_child]\n",
            "[DEBUG] inside house         : InsideHouse.tick()\n",
            "[DEBUG] inside house         : InsideHouse::initialise inside house\n",
            "[DEBUG] inside house         : InsideHouse::update inside house\n",
            "SUCCESS\n",
            "[DEBUG] inside house         : InsideHouse.stop(Status.SUCCESS)\n",
            "[DEBUG] inside house         : NewAction::terminate inside house. Terminated with status Status.SUCCESS\n",
            "New tick\n",
            "[DEBUG] root                 : Selector.tick()\n",
            "[DEBUG] root                 : Selector.tick() [!RUNNING->reset current_child]\n",
            "[DEBUG] inside house         : InsideHouse.tick()\n",
            "[DEBUG] inside house         : InsideHouse::initialise inside house\n",
            "[DEBUG] inside house         : InsideHouse::update inside house\n",
            "SUCCESS\n",
            "[DEBUG] inside house         : InsideHouse.stop(Status.SUCCESS)\n",
            "[DEBUG] inside house         : NewAction::terminate inside house. Terminated with status Status.SUCCESS\n",
            "New tick\n",
            "[DEBUG] root                 : Selector.tick()\n",
            "[DEBUG] root                 : Selector.tick() [!RUNNING->reset current_child]\n",
            "[DEBUG] inside house         : InsideHouse.tick()\n",
            "[DEBUG] inside house         : InsideHouse::initialise inside house\n",
            "[DEBUG] inside house         : InsideHouse::update inside house\n",
            "SUCCESS\n",
            "[DEBUG] inside house         : InsideHouse.stop(Status.SUCCESS)\n",
            "[DEBUG] inside house         : NewAction::terminate inside house. Terminated with status Status.SUCCESS\n",
            "New tick\n",
            "[DEBUG] root                 : Selector.tick()\n",
            "[DEBUG] root                 : Selector.tick() [!RUNNING->reset current_child]\n",
            "[DEBUG] inside house         : InsideHouse.tick()\n",
            "[DEBUG] inside house         : InsideHouse::initialise inside house\n",
            "[DEBUG] inside house         : InsideHouse::update inside house\n",
            "SUCCESS\n",
            "[DEBUG] inside house         : InsideHouse.stop(Status.SUCCESS)\n",
            "[DEBUG] inside house         : NewAction::terminate inside house. Terminated with status Status.SUCCESS\n",
            "New tick\n",
            "[DEBUG] root                 : Selector.tick()\n",
            "[DEBUG] root                 : Selector.tick() [!RUNNING->reset current_child]\n",
            "[DEBUG] inside house         : InsideHouse.tick()\n",
            "[DEBUG] inside house         : InsideHouse::initialise inside house\n",
            "[DEBUG] inside house         : InsideHouse::update inside house\n",
            "SUCCESS\n",
            "[DEBUG] inside house         : InsideHouse.stop(Status.SUCCESS)\n",
            "[DEBUG] inside house         : NewAction::terminate inside house. Terminated with status Status.SUCCESS\n",
            "New tick\n",
            "[DEBUG] root                 : Selector.tick()\n",
            "[DEBUG] root                 : Selector.tick() [!RUNNING->reset current_child]\n",
            "[DEBUG] inside house         : InsideHouse.tick()\n",
            "[DEBUG] inside house         : InsideHouse::initialise inside house\n",
            "[DEBUG] inside house         : InsideHouse::update inside house\n",
            "SUCCESS\n",
            "[DEBUG] inside house         : InsideHouse.stop(Status.SUCCESS)\n",
            "[DEBUG] inside house         : NewAction::terminate inside house. Terminated with status Status.SUCCESS\n",
            "New tick\n",
            "[DEBUG] root                 : Selector.tick()\n",
            "[DEBUG] root                 : Selector.tick() [!RUNNING->reset current_child]\n",
            "[DEBUG] inside house         : InsideHouse.tick()\n",
            "[DEBUG] inside house         : InsideHouse::initialise inside house\n",
            "[DEBUG] inside house         : InsideHouse::update inside house\n",
            "SUCCESS\n",
            "[DEBUG] inside house         : InsideHouse.stop(Status.SUCCESS)\n",
            "[DEBUG] inside house         : NewAction::terminate inside house. Terminated with status Status.SUCCESS\n",
            "New tick\n",
            "[DEBUG] root                 : Selector.tick()\n",
            "[DEBUG] root                 : Selector.tick() [!RUNNING->reset current_child]\n",
            "[DEBUG] inside house         : InsideHouse.tick()\n",
            "[DEBUG] inside house         : InsideHouse::initialise inside house\n",
            "[DEBUG] inside house         : InsideHouse::update inside house\n",
            "SUCCESS\n",
            "[DEBUG] inside house         : InsideHouse.stop(Status.SUCCESS)\n",
            "[DEBUG] inside house         : NewAction::terminate inside house. Terminated with status Status.SUCCESS\n",
            "New tick\n",
            "[DEBUG] root                 : Selector.tick()\n",
            "[DEBUG] root                 : Selector.tick() [!RUNNING->reset current_child]\n",
            "[DEBUG] inside house         : InsideHouse.tick()\n",
            "[DEBUG] inside house         : InsideHouse::initialise inside house\n",
            "[DEBUG] inside house         : InsideHouse::update inside house\n",
            "SUCCESS\n",
            "[DEBUG] inside house         : InsideHouse.stop(Status.SUCCESS)\n",
            "[DEBUG] inside house         : NewAction::terminate inside house. Terminated with status Status.SUCCESS\n"
          ]
        }
      ]
    },
    {
      "cell_type": "markdown",
      "source": [
        "We can see that it works because on the first tick InsideHouse returns failure, and then, after WalkThroughDoor is executed, InsideHouse always returns success."
      ],
      "metadata": {
        "id": "GGQRIuBhdPWb"
      }
    },
    {
      "cell_type": "markdown",
      "source": [
        "### Exercise 5: Implement a full tree"
      ],
      "metadata": {
        "id": "UCpgZaE-dfNy"
      }
    },
    {
      "cell_type": "markdown",
      "source": [
        "I will use the recipe that Maria Pilligua did"
      ],
      "metadata": {
        "id": "yIzFirEEf7tg"
      }
    },
    {
      "cell_type": "markdown",
      "source": [
        "##### Creating actions and conditions"
      ],
      "metadata": {
        "id": "zT3IikR7hZB9"
      }
    },
    {
      "cell_type": "code",
      "source": [
        "class Wisk_Mixture(Behaviour):\n",
        "    def __init__(self, name):\n",
        "        super(Wisk_Mixture, self).__init__(name)\n",
        "\n",
        "    def setup(self):\n",
        "        self.logger.debug(f\"Wisk_Mixture::setup {self.name}\")\n",
        "\n",
        "    def initialise(self):\n",
        "        self.logger.debug(f\"Wisk_Mixture::initialise {self.name}\")\n",
        "\n",
        "    def update(self):\n",
        "        self.logger.debug(f\"Wisk_Mixture::update {self.name}\")\n",
        "        return Status.FAILURE\n",
        "\n",
        "    def terminate(self, new_status:Status):\n",
        "        self.logger.debug(f\"Wisk_Mixture::terminate {self.name}. Terminated with status {new_status}\")"
      ],
      "metadata": {
        "id": "f8GPvMa_dwiu"
      },
      "execution_count": null,
      "outputs": []
    },
    {
      "cell_type": "code",
      "source": [
        "class Ingridients_In_Bowl(Behaviour):\n",
        "    def __init__(self, name):\n",
        "        super(Ingridients_In_Bowl, self).__init__(name)\n",
        "\n",
        "    def setup(self):\n",
        "        self.logger.debug(f\"Ingridients_In_Bowl::setup {self.name}\")\n",
        "\n",
        "    def initialise(self):\n",
        "        self.logger.debug(f\"Ingridients_In_Bowl::initialise {self.name}\")\n",
        "\n",
        "    def update(self):\n",
        "        self.logger.debug(f\"Ingridients_In_Bowl::update {self.name}\")\n",
        "        return Status.FAILURE\n",
        "\n",
        "    def terminate(self, new_status:Status):\n",
        "        self.logger.debug(f\"Ingridients_In_Bowl::terminate {self.name}. Terminated with status {new_status}\")"
      ],
      "metadata": {
        "id": "jTrb9SFtg0du"
      },
      "execution_count": null,
      "outputs": []
    },
    {
      "cell_type": "code",
      "source": [
        "class Mixture_Mixed(Behaviour):\n",
        "    def __init__(self, name):\n",
        "        super(Mixture_Mixed, self).__init__(name)\n",
        "\n",
        "    def setup(self):\n",
        "        self.logger.debug(f\"Mixture_Mixed::setup {self.name}\")\n",
        "\n",
        "    def initialise(self):\n",
        "        self.logger.debug(f\"Mixture_Mixed::initialise {self.name}\")\n",
        "\n",
        "    def update(self):\n",
        "        self.logger.debug(f\"Mixture_Mixed::update {self.name}\")\n",
        "        return Status.FAILURE\n",
        "\n",
        "    def terminate(self, new_status:Status):\n",
        "        self.logger.debug(f\"Mixture_Mixed::terminate {self.name}. Terminated with status {new_status}\")"
      ],
      "metadata": {
        "id": "SLN7ZrlbheEH"
      },
      "execution_count": null,
      "outputs": []
    },
    {
      "cell_type": "code",
      "source": [
        "class Heat_Grease_Pan(Behaviour):\n",
        "    def __init__(self, name):\n",
        "        super(Heat_Grease_Pan, self).__init__(name)\n",
        "\n",
        "    def setup(self):\n",
        "        self.logger.debug(f\"Heat_Grease_Pan::setup {self.name}\")\n",
        "\n",
        "    def initialise(self):\n",
        "        self.logger.debug(f\"Heat_Grease_Pan::initialise {self.name}\")\n",
        "\n",
        "    def update(self):\n",
        "        self.logger.debug(f\"Heat_Grease_Pan::update {self.name}\")\n",
        "        return Status.FAILURE\n",
        "\n",
        "    def terminate(self, new_status:Status):\n",
        "        self.logger.debug(f\"Heat_Grease_Pan::terminate {self.name}. Terminated with status {new_status}\")"
      ],
      "metadata": {
        "id": "989ZYoT0hxBm"
      },
      "execution_count": null,
      "outputs": []
    },
    {
      "cell_type": "code",
      "source": [
        "class Pan_Ready(Behaviour):\n",
        "    def __init__(self, name):\n",
        "        super(Pan_Ready, self).__init__(name)\n",
        "\n",
        "    def setup(self):\n",
        "        self.logger.debug(f\"Pan_Ready::setup {self.name}\")\n",
        "\n",
        "    def initialise(self):\n",
        "        self.logger.debug(f\"Pan_Ready::initialise {self.name}\")\n",
        "\n",
        "    def update(self):\n",
        "        self.logger.debug(f\"Pan_Ready::update {self.name}\")\n",
        "        return Status.FAILURE\n",
        "\n",
        "    def terminate(self, new_status:Status):\n",
        "        self.logger.debug(f\"Pan_Ready::terminate {self.name}. Terminated with status {new_status}\")"
      ],
      "metadata": {
        "id": "3Bvw3_8Th5V2"
      },
      "execution_count": null,
      "outputs": []
    },
    {
      "cell_type": "code",
      "source": [
        "class Pour_Mixture(Behaviour):\n",
        "    def __init__(self, name):\n",
        "        super(Pour_Mixture, self).__init__(name)\n",
        "\n",
        "    def setup(self):\n",
        "        self.logger.debug(f\"Pour_Mixture::setup {self.name}\")\n",
        "\n",
        "    def initialise(self):\n",
        "        self.logger.debug(f\"Pour_Mixture::initialise {self.name}\")\n",
        "\n",
        "    def update(self):\n",
        "        self.logger.debug(f\"Pour_Mixture::update {self.name}\")\n",
        "        return Status.FAILURE\n",
        "\n",
        "    def terminate(self, new_status:Status):\n",
        "        self.logger.debug(f\"Pour_Mixture::terminate {self.name}. Terminated with status {new_status}\")"
      ],
      "metadata": {
        "id": "fV8OytLgh_5U"
      },
      "execution_count": null,
      "outputs": []
    },
    {
      "cell_type": "code",
      "source": [
        "class Pancake_Cooked(Behaviour):\n",
        "    def __init__(self, name):\n",
        "        super(Pancake_Cooked, self).__init__(name)\n",
        "\n",
        "    def setup(self):\n",
        "        self.logger.debug(f\"Pancake_Cooked::setup {self.name}\")\n",
        "\n",
        "    def initialise(self):\n",
        "        self.logger.debug(f\"Pancake_Cooked::initialise {self.name}\")\n",
        "\n",
        "    def update(self):\n",
        "        self.logger.debug(f\"Pancake_Cooked::update {self.name}\")\n",
        "        return Status.FAILURE\n",
        "\n",
        "    def terminate(self, new_status:Status):\n",
        "        self.logger.debug(f\"Pancake_Cooked::terminate {self.name}. Terminated with status {new_status}\")"
      ],
      "metadata": {
        "id": "CIlTsXbBiHQY"
      },
      "execution_count": null,
      "outputs": []
    },
    {
      "cell_type": "code",
      "source": [
        "class Cook_Pancake(Behaviour):\n",
        "    def __init__(self, name):\n",
        "        super(Cook_Pancake, self).__init__(name)\n",
        "\n",
        "    def setup(self):\n",
        "        self.logger.debug(f\"Cook_Pancake::setup {self.name}\")\n",
        "\n",
        "    def initialise(self):\n",
        "        self.logger.debug(f\"Cook_Pancake::initialise {self.name}\")\n",
        "\n",
        "    def update(self):\n",
        "        self.logger.debug(f\"Cook_Pancake::update {self.name}\")\n",
        "        return Status.FAILURE\n",
        "\n",
        "    def terminate(self, new_status:Status):\n",
        "        self.logger.debug(f\"Cook_Pancake::terminate {self.name}. Terminated with status {new_status}\")"
      ],
      "metadata": {
        "id": "zQuRO9WGiUa8"
      },
      "execution_count": null,
      "outputs": []
    },
    {
      "cell_type": "code",
      "source": [
        "class Pancake_Ready(Behaviour):\n",
        "    def __init__(self, name):\n",
        "        super(Pancake_Ready, self).__init__(name)\n",
        "\n",
        "    def setup(self):\n",
        "        self.logger.debug(f\"Pancake_Ready::setup {self.name}\")\n",
        "\n",
        "    def initialise(self):\n",
        "        self.logger.debug(f\"Pancake_Ready::initialise {self.name}\")\n",
        "\n",
        "    def update(self):\n",
        "        self.logger.debug(f\"Pancake_Ready::update {self.name}\")\n",
        "        return Status.FAILURE\n",
        "\n",
        "    def terminate(self, new_status:Status):\n",
        "        self.logger.debug(f\"Pancake_Ready::terminate {self.name}. Terminated with status {new_status}\")"
      ],
      "metadata": {
        "id": "81vYXp7zibZ9"
      },
      "execution_count": null,
      "outputs": []
    },
    {
      "cell_type": "markdown",
      "source": [
        "##### Creating sequences and selectors"
      ],
      "metadata": {
        "id": "WkPhYH3Jio_T"
      }
    },
    {
      "cell_type": "code",
      "source": [
        "seq_1 = Sequence(name=\"root\", memory=False)\n",
        "\n",
        "inginbowl = Ingridients_In_Bowl(name=\"ingredients in bowl\")\n",
        "wisk = Wisk_Mixture(name=\"wisk mixture\")\n",
        "\n",
        "seq_1.add_children([inginbowl, wisk])"
      ],
      "metadata": {
        "colab": {
          "base_uri": "https://localhost:8080/"
        },
        "id": "MgcKQTIoiupp",
        "outputId": "076d48ce-e189-4ab0-a6ba-18f716a67c8a"
      },
      "execution_count": null,
      "outputs": [
        {
          "output_type": "execute_result",
          "data": {
            "text/plain": [
              "<py_trees.composites.Sequence at 0x7d0197262aa0>"
            ]
          },
          "metadata": {},
          "execution_count": 114
        }
      ]
    },
    {
      "cell_type": "code",
      "source": [
        "sel_1 = Selector(name=\"root\", memory=False)\n",
        "\n",
        "mixmix = Mixture_Mixed(name=\"mixture mixed\")\n",
        "\n",
        "sel_1.add_children([mixmix, seq_1])"
      ],
      "metadata": {
        "colab": {
          "base_uri": "https://localhost:8080/"
        },
        "id": "GBZ4vPfFjTW-",
        "outputId": "c9f01ea7-9adb-47de-a89e-b3015a607aa4"
      },
      "execution_count": null,
      "outputs": [
        {
          "output_type": "execute_result",
          "data": {
            "text/plain": [
              "<py_trees.composites.Selector at 0x7d0197262e60>"
            ]
          },
          "metadata": {},
          "execution_count": 115
        }
      ]
    },
    {
      "cell_type": "code",
      "source": [
        "sel_2 = Selector(name=\"root\", memory=False)\n",
        "\n",
        "panr = Pan_Ready(name=\"pan ready\")\n",
        "heat = Heat_Grease_Pan(name=\"heat and grease pan\")\n",
        "\n",
        "sel_2.add_children([panr, heat])"
      ],
      "metadata": {
        "colab": {
          "base_uri": "https://localhost:8080/"
        },
        "id": "eHLgX6Xvjpkn",
        "outputId": "bdd2733e-c933-4ea5-d031-caef5cb265a3"
      },
      "execution_count": null,
      "outputs": [
        {
          "output_type": "execute_result",
          "data": {
            "text/plain": [
              "<py_trees.composites.Selector at 0x7d0196fffd60>"
            ]
          },
          "metadata": {},
          "execution_count": 116
        }
      ]
    },
    {
      "cell_type": "code",
      "source": [
        "seq_2 = Sequence(name=\"root\", memory=False)\n",
        "\n",
        "panmix = Pour_Mixture(name=\"pour mixture on pan and wait\")\n",
        "\n",
        "seq_2.add_children([sel_2, sel_1, panmix])"
      ],
      "metadata": {
        "colab": {
          "base_uri": "https://localhost:8080/"
        },
        "id": "pKKIORKWkK5l",
        "outputId": "397edead-50e2-4e7f-8dae-3520d3d12539"
      },
      "execution_count": null,
      "outputs": [
        {
          "output_type": "execute_result",
          "data": {
            "text/plain": [
              "<py_trees.composites.Sequence at 0x7d0197260e20>"
            ]
          },
          "metadata": {},
          "execution_count": 117
        }
      ]
    },
    {
      "cell_type": "code",
      "source": [
        "sel_3 = Selector(name=\"root\", memory=False)\n",
        "\n",
        "panco = Pancake_Cooked(name=\"pancake cooked\")\n",
        "\n",
        "sel_3.add_children([panco, seq_2])"
      ],
      "metadata": {
        "colab": {
          "base_uri": "https://localhost:8080/"
        },
        "id": "rYIfo1vnkaYp",
        "outputId": "c40d1ed1-5a30-49ae-8b07-4c0db76d1e0d"
      },
      "execution_count": null,
      "outputs": [
        {
          "output_type": "execute_result",
          "data": {
            "text/plain": [
              "<py_trees.composites.Selector at 0x7d01972620b0>"
            ]
          },
          "metadata": {},
          "execution_count": 118
        }
      ]
    },
    {
      "cell_type": "code",
      "source": [
        "seq_3 = Sequence(name=\"root\", memory=False)\n",
        "\n",
        "copan = Cook_Pancake(name=\"cook pancake\")\n",
        "\n",
        "seq_3.add_children([sel_3, copan])"
      ],
      "metadata": {
        "colab": {
          "base_uri": "https://localhost:8080/"
        },
        "id": "cINooAGHlVFR",
        "outputId": "6ea51091-7aaa-4a52-f190-3c9722ae29c6"
      },
      "execution_count": null,
      "outputs": [
        {
          "output_type": "execute_result",
          "data": {
            "text/plain": [
              "<py_trees.composites.Sequence at 0x7d0196fffeb0>"
            ]
          },
          "metadata": {},
          "execution_count": 119
        }
      ]
    },
    {
      "cell_type": "code",
      "source": [
        "root = Selector(name=\"root\", memory=False)\n",
        "\n",
        "done = Pancake_Ready(name=\"pancake ready!\")\n",
        "\n",
        "root.add_children([done, seq_3])"
      ],
      "metadata": {
        "colab": {
          "base_uri": "https://localhost:8080/"
        },
        "id": "xfBOh7pVliyZ",
        "outputId": "39f18b92-9f94-4dd6-c888-a71e349b452c"
      },
      "execution_count": null,
      "outputs": [
        {
          "output_type": "execute_result",
          "data": {
            "text/plain": [
              "<py_trees.composites.Selector at 0x7d0196ffdf30>"
            ]
          },
          "metadata": {},
          "execution_count": 120
        }
      ]
    },
    {
      "cell_type": "markdown",
      "source": [
        "##### Drawing tree"
      ],
      "metadata": {
        "id": "qnDNIqv8l80v"
      }
    },
    {
      "cell_type": "code",
      "source": [
        "render_dot_tree(root)\n",
        "plt.imshow(img.imread('/content/root.png') )"
      ],
      "metadata": {
        "colab": {
          "base_uri": "https://localhost:8080/",
          "height": 508
        },
        "id": "W65gL4y-l775",
        "outputId": "24df89b3-74a9-46cd-cf86-31e06ad00fc1"
      },
      "execution_count": null,
      "outputs": [
        {
          "output_type": "stream",
          "name": "stdout",
          "text": [
            "Writing /content/root.dot\n",
            "Writing /content/root.png\n",
            "Writing /content/root.svg\n"
          ]
        },
        {
          "output_type": "execute_result",
          "data": {
            "text/plain": [
              "<matplotlib.image.AxesImage at 0x7d0197292710>"
            ]
          },
          "metadata": {},
          "execution_count": 121
        },
        {
          "output_type": "display_data",
          "data": {
            "text/plain": [
              "<Figure size 640x480 with 1 Axes>"
            ],
            "image/png": "[encoded data removed]"
          },
          "metadata": {}
        }
      ]
    }
  ]
}