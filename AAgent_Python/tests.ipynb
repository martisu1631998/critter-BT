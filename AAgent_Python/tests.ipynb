{
 "cells": [
  {
   "cell_type": "code",
   "execution_count": null,
   "metadata": {},
   "outputs": [],
   "source": [
    "class BN_DetectObstacle(pt.behaviour.Behaviour):\n",
    "    def __init__(self, aagent):\n",
    "        self.my_goal = None\n",
    "        print(\"Initializing BN_DetectFlower\")\n",
    "        super(BN_DetectObstacle, self).__init__(\"BN_DetectObstacle\")\n",
    "        self.my_agent = aagent\n",
    "        self.always_avoid = [\"AAgentCritterMantaRay\", \"Rock\", \"Wall\", \"Machine\"]\n",
    "\n",
    "    def initialise(self):\n",
    "        pass\n",
    "\n",
    "    def update(self):\n",
    "        sensor_obj_info = self.my_agent.rc_sensor.sensor_rays[Sensors.RayCastSensor.OBJECT_INFO]\n",
    "        for index, value in enumerate(sensor_obj_info):\n",
    "            if value:  # there is a hit with an object\n",
    "                if value[\"tag\"] in self.always_avoid: # If it's one of the things we always want to avoid\n",
    "                    print(\"BN_DetectObstacle completed with SUCCESS\")\n",
    "                    return pt.common.Status.SUCCESS\n",
    "                if value[\"tag\"] == \"Flower\":\n",
    "                    if not hungry:\n",
    "                        return pt.common.Status.SUCCESS\n",
    "        return pt.common.Status.FAILURE\n",
    "\n",
    "    def terminate(self, new_status: common.Status):\n",
    "        pass"
   ]
  }
 ],
 "metadata": {
  "language_info": {
   "name": "python"
  }
 },
 "nbformat": 4,
 "nbformat_minor": 2
}
