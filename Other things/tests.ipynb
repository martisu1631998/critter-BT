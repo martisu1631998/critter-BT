{
 "cells": [
  {
   "cell_type": "code",
   "execution_count": 8,
   "metadata": {},
   "outputs": [],
   "source": [
    "import asyncio\n",
    "import random\n",
    "import py_trees # type: ignore\n",
    "import py_trees as pt # type: ignore\n",
    "from py_trees import common # type: ignore\n",
    "\n",
    "import Goals_BT\n",
    "import Sensors\n",
    "from BTRoam import *\n",
    "import AAgent_BT\n",
    "\n",
    "import time"
   ]
  },
  {
   "cell_type": "code",
   "execution_count": 14,
   "metadata": {},
   "outputs": [],
   "source": [
    "class BN_DetectObstacle(pt.behaviour.Behaviour):\n",
    "    def __init__(self, aagent):\n",
    "        self.my_goal = None\n",
    "        print(\"Initializing BN_DetectObstacle\")\n",
    "        super(BN_DetectObstacle, self).__init__(\"BN_DetectObstacle\")\n",
    "        self.my_agent = aagent\n",
    "        self.always_avoid = [\"AAgentCritterMantaRay\", \"Rock\", \"Wall\", \"Machine\"]\n",
    "\n",
    "    def initialise(self):\n",
    "        pass\n",
    "\n",
    "    def update(self):\n",
    "        sensor_obj_info = self.my_agent.rc_sensor.sensor_rays[Sensors.RayCastSensor.OBJECT_INFO]\n",
    "        print(sensor_obj_info)\n",
    "        for index, value in enumerate(sensor_obj_info):\n",
    "            if value:  # there is a hit with an object\n",
    "                if value[\"tag\"] in self.always_avoid: # If it's one of the things we always want to avoid\n",
    "                    print(\"BN_DetectObstacle completed with SUCCESS\")\n",
    "                    return pt.common.Status.FAILURE\n",
    "                if value[\"tag\"] == \"Flower\":\n",
    "                    if not hungry:\n",
    "                        return pt.common.Status.FAILURE\n",
    "        return pt.common.Status.SUCCESS\n",
    "    \n",
    "\n",
    "class BN_NoObstacle(pt.behaviour.Behaviour):\n",
    "    def __init__(self, aagent):\n",
    "        self.my_goal = None\n",
    "        print(\"Initializing BN_NoObstacle\")\n",
    "        super(BN_NoObstacle, self).__init__(\"BN_NoObstacle\")\n",
    "        self.my_agent = aagent\n",
    "        self.always_avoid = [\"AAgentCritterMantaRay\", \"Rock\", \"Wall\", \"Machine\"]\n",
    "\n",
    "    def initialise(self):\n",
    "        pass\n",
    "\n",
    "    def update(self):\n",
    "        sensor_obj_info = self.my_agent.rc_sensor.sensor_rays[Sensors.RayCastSensor.OBJECT_INFO]\n",
    "        print(sensor_obj_info)\n",
    "        for index, value in enumerate(sensor_obj_info):\n",
    "            if value:  # there is a hit with an object\n",
    "                if value[\"tag\"] in self.always_avoid: # If it's one of the things we always want to avoid\n",
    "                    # print(\"BN_NoObstacle completed with SUCCESS\")\n",
    "                    return pt.common.Status.SUCCESS\n",
    "                if value[\"tag\"] == \"Flower\":\n",
    "                    if not self.my_agent.i_state.isHungry:\n",
    "                        return pt.common.Status.SUCCESS\n",
    "        return pt.common.Status.FAILURE\n",
    "\n",
    "\n",
    "class BN_ManageObstacle(pt.behaviour.Behaviour):\n",
    "    def __init__(self, aagent):\n",
    "        self.my_goal = None\n",
    "        print(\"Initializing BN_ManageObstacle\")\n",
    "        super(BN_ManageObstacle, self).__init__(\"Normal\")\n",
    "        self.my_agent = aagent\n",
    "        \n",
    "\n",
    "    def initialise(self):\n",
    "        pass\n",
    "\n",
    "    def update(self):\n",
    "        print('Siuu')\n",
    "        return pt.common.Status.SUCCESS\n",
    "\n",
    "    def terminate(self, new_status: common.Status):\n",
    "        pass"
   ]
  },
  {
   "cell_type": "code",
   "execution_count": 15,
   "metadata": {},
   "outputs": [],
   "source": [
    "class BTRoamAdvanced:\n",
    "    def __init__(self, aagent):\n",
    "        # py_trees.logging.level = py_trees.logging.Level.DEBUG\n",
    "\n",
    "        self.aagent = aagent\n",
    "\n",
    "        # VERSION 1\n",
    "        # self.root = pt.composites.Sequence(name=\"Sequence\", memory=True)\n",
    "        # self.root.add_children([BN_TurnRandom(aagent),\n",
    "        #                         BN_ForwardRandom(aagent),\n",
    "        #                         BN_DoNothing(aagent)])\n",
    "\n",
    "        # VERSION 2\n",
    "        # self.root = pt.composites.Parallel(\"Parallel\", policy=py_trees.common.ParallelPolicy.SuccessOnAll())\n",
    "        # self.root.add_children([BN_ForwardRandom(aagent), BN_TurnRandom(aagent)])\n",
    "\n",
    "        # VERSION 3 (with DetectFlower)\n",
    "        flower_detection = pt.composites.Sequence(name=\"DetectFlower\", memory=True)\n",
    "        flower_detection.add_children([BN_DetectFlower(aagent), BN_DoNothing(aagent)])\n",
    "\n",
    "        roaming = pt.composites.Parallel(\"Parallel\", policy=py_trees.common.ParallelPolicy.SuccessOnAll())\n",
    "        roaming.add_children([BN_ForwardRandom(aagent), BN_TurnRandom(aagent)])\n",
    "\n",
    "        no_problem = pt.composites.Selector(name=\"Selector\", memory=False)\n",
    "        no_problem.add_children([flower_detection, roaming])\n",
    "\n",
    "        obstacle = pt.composites.Sequence(name=\"DetectObstacle\", memory=False)\n",
    "        obstacle.add_children([BN_DetectObstacle(aagent), BN_ManageObstacle(aagent)])\n",
    "\n",
    "        free_way = pt.composites.Selector(name=\"Selector\", memory=False)\n",
    "        free_way.add_children([BN_NoObstacle(aagent), obstacle])\n",
    "\n",
    "        self.root = pt.composites.Sequence(name=\"Sequence\", memory=False)\n",
    "        self.root.add_children([free_way, no_problem])\n",
    "\n",
    "        self.behaviour_tree = pt.trees.BehaviourTree(self.root)\n",
    "\n",
    "    # Function to set invalid state for a node and its children recursively\n",
    "    def set_invalid_state(self, node):\n",
    "        node.status = pt.common.Status.INVALID\n",
    "        for child in node.children:\n",
    "            self.set_invalid_state(child)\n",
    "\n",
    "    def stop_behaviour_tree(self):\n",
    "        # Setting all the nodes to invalid, we force the associated asyncio tasks to be cancelled\n",
    "        self.set_invalid_state(self.root)\n",
    "\n",
    "    async def tick(self):\n",
    "        self.behaviour_tree.tick()\n",
    "        await asyncio.sleep(0)"
   ]
  },
  {
   "cell_type": "code",
   "execution_count": 16,
   "metadata": {},
   "outputs": [
    {
     "name": "stdout",
     "output_type": "stream",
     "text": [
      "Initializing BN_DetectFlower\n",
      "Initializing BN_DoNothing\n",
      "Initializing BN_ForwardRandom\n",
      "Initializing BN_TurnRandom\n",
      "Initializing BN_DetectFlower\n",
      "Initializing BN_DoNothing\n",
      "Initializing BN_ForwardRandom\n",
      "Initializing BN_TurnRandom\n",
      "Initializing BN_DetectObstacle\n",
      "Initializing BN_ManageObstacle\n",
      "Initializing BN_NoObstacle\n"
     ]
    }
   ],
   "source": [
    "agent = AAgent_BT.AAgent(\"AAgent-1.json\")\n",
    "test_bt = BTRoamAdvanced(agent)"
   ]
  },
  {
   "cell_type": "code",
   "execution_count": 17,
   "metadata": {},
   "outputs": [
    {
     "data": {
      "text/plain": [
       "<coroutine object BTRoamAdvanced.tick at 0x000001E1AF2A9A80>"
      ]
     },
     "execution_count": 17,
     "metadata": {},
     "output_type": "execute_result"
    }
   ],
   "source": [
    "test_bt.tick()"
   ]
  },
  {
   "cell_type": "code",
   "execution_count": null,
   "metadata": {},
   "outputs": [],
   "source": [
    "    def update(self):\n",
    "        sensor_obj_info = self.my_agent.rc_sensor.sensor_rays[Sensors.RayCastSensor.OBJECT_INFO]\n",
    "        # Only trigger if one of the 3 central rays hits\n",
    "        for i in [4, 5, 6]:\n",
    "            if sensor_obj_info[i]:\n",
    "                if sensor_obj_info[i][\"tag\"] == \"Flower\":\n",
    "                    print(\"BN_DetectFlower completed with SUCCESS\")\n",
    "                    return pt.common.Status.SUCCESS\n",
    "\n",
    "        # print(\"No flower...\")\n",
    "        # print(\"BN_DetectFlower completed with FAILURE\")\n",
    "        return pt.common.Status.FAILURE"
   ]
  },
  {
   "cell_type": "code",
   "execution_count": 27,
   "metadata": {},
   "outputs": [],
   "source": [
    "class Prova():\n",
    "    def __init__(self, i):\n",
    "        self.i = i\n",
    "\n",
    "    def operate(self):\n",
    "        return i ** 2\n",
    "\n",
    "    def operation(self):\n",
    "        return operate(self.i)\n",
    "    \n",
    "gugu = Prova(4)\n",
    "gugu.operation()"
   ]
  },
  {
   "cell_type": "code",
   "execution_count": 28,
   "metadata": {},
   "outputs": [
    {
     "ename": "NameError",
     "evalue": "name 'operate' is not defined",
     "output_type": "error",
     "traceback": [
      "\u001b[1;31m---------------------------------------------------------------------------\u001b[0m",
      "\u001b[1;31mNameError\u001b[0m                                 Traceback (most recent call last)",
      "Cell \u001b[1;32mIn[28], line 2\u001b[0m\n\u001b[0;32m      1\u001b[0m gugu \u001b[38;5;241m=\u001b[39m Prova(\u001b[38;5;241m4\u001b[39m)\n\u001b[1;32m----> 2\u001b[0m \u001b[43mgugu\u001b[49m\u001b[38;5;241;43m.\u001b[39;49m\u001b[43moperation\u001b[49m\u001b[43m(\u001b[49m\u001b[43m)\u001b[49m\n",
      "Cell \u001b[1;32mIn[27], line 9\u001b[0m, in \u001b[0;36mProva.operation\u001b[1;34m(self)\u001b[0m\n\u001b[0;32m      8\u001b[0m \u001b[38;5;28;01mdef\u001b[39;00m \u001b[38;5;21moperation\u001b[39m(\u001b[38;5;28mself\u001b[39m):\n\u001b[1;32m----> 9\u001b[0m     \u001b[38;5;28;01mreturn\u001b[39;00m \u001b[43moperate\u001b[49m(\u001b[38;5;28mself\u001b[39m\u001b[38;5;241m.\u001b[39mi)\n",
      "\u001b[1;31mNameError\u001b[0m: name 'operate' is not defined"
     ]
    }
   ],
   "source": []
  },
  {
   "cell_type": "code",
   "execution_count": null,
   "metadata": {},
   "outputs": [],
   "source": []
  }
 ],
 "metadata": {
  "kernelspec": {
   "display_name": "morralla",
   "language": "python",
   "name": "python3"
  },
  "language_info": {
   "codemirror_mode": {
    "name": "ipython",
    "version": 3
   },
   "file_extension": ".py",
   "mimetype": "text/x-python",
   "name": "python",
   "nbconvert_exporter": "python",
   "pygments_lexer": "ipython3",
   "version": "3.12.3"
  }
 },
 "nbformat": 4,
 "nbformat_minor": 2
}
